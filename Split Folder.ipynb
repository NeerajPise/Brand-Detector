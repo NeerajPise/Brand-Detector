{
 "cells": [
  {
   "cell_type": "code",
   "execution_count": null,
   "metadata": {},
   "outputs": [],
   "source": [
    "import os\n",
    "import shutil\n",
    "import random\n"
   ]
  },
  {
   "cell_type": "code",
   "execution_count": null,
   "metadata": {},
   "outputs": [],
   "source": [
    "os.mkdir('testing')\n",
    "for i in os.listdir():\n",
    "    new_test = os.mkdir(os.path.join(os.getcwd(), 'testing', i))\n",
    "    twenty = int(0.2*len(os.listdir(i)))\n",
    "    for j in range(0,twenty):\n",
    "        files = os.listdir(i)\n",
    "        rand = random.randint(0, len(files))\n",
    "        src = os.path.join(os.getcwd(), i, files[j])\n",
    "        dest = os.path.join(os.getcwd(),'testing', i)\n",
    "        shutil.move(src, dest)\n",
    "        \n",
    "os.mkdir('training')\n",
    "for i in os.listdir():\n",
    "    if 'testing' not in i:\n",
    "        shutil.move(os.path.join(os.getcwd(), i), os.path.join(os.getcwd(), 'training'))  \n",
    "        "
   ]
  }
 ],
 "metadata": {
  "kernelspec": {
   "display_name": "Python 3",
   "language": "python",
   "name": "python3"
  },
  "language_info": {
   "codemirror_mode": {
    "name": "ipython",
    "version": 3
   },
   "file_extension": ".py",
   "mimetype": "text/x-python",
   "name": "python",
   "nbconvert_exporter": "python",
   "pygments_lexer": "ipython3",
   "version": "3.7.6"
  }
 },
 "nbformat": 4,
 "nbformat_minor": 2
}
