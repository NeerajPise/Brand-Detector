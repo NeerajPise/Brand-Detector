{
 "cells": [
  {
   "cell_type": "code",
   "execution_count": null,
   "metadata": {},
   "outputs": [],
   "source": [
    "import os\n",
    "import shutil\n",
    "import random\n",
    "import cv2\n",
    "from darkflow.net.build import TFNet\n",
    "import matplotlib.pyplot as plt\n",
    "%matplotlib inline\n",
    "os.chdir(r'F:\\darkflow-master')"
   ]
  },
  {
   "cell_type": "code",
   "execution_count": null,
   "metadata": {},
   "outputs": [],
   "source": [
    "options = {'model': 'cfg/yolo1.cfg',\n",
    "           'load': 'bin/yolo.weights',\n",
    "           'batch': 2,\n",
    "           'epoch': 10,\n",
    "           'train': True,\n",
    "           'annotation': 'new_data/annot/',\n",
    "           'dataset': 'new_data/image/',\n",
    "           'gpu': 0.9}"
   ]
  },
  {
   "cell_type": "code",
   "execution_count": null,
   "metadata": {},
   "outputs": [],
   "source": [
    "tfnet = TFNet(options)"
   ]
  },
  {
   "cell_type": "code",
   "execution_count": null,
   "metadata": {},
   "outputs": [],
   "source": [
    "tfnet.train()"
   ]
  },
  {
   "cell_type": "code",
   "execution_count": null,
   "metadata": {},
   "outputs": [],
   "source": [
    "options = {\n",
    " 'model': 'cfg/yolo1.cfg',\n",
    " 'load': -1,\n",
    " 'threshold': 0.3,\n",
    " \n",
    "}\n",
    "tfnet2 = TFNet(options)"
   ]
  },
  {
   "cell_type": "code",
   "execution_count": null,
   "metadata": {},
   "outputs": [],
   "source": [
    "tfnet2.load_from_ckpt()"
   ]
  },
  {
   "cell_type": "code",
   "execution_count": null,
   "metadata": {},
   "outputs": [],
   "source": [
    "os.listdir(r'C:/Users/hp/Desktop')"
   ]
  },
  {
   "cell_type": "code",
   "execution_count": null,
   "metadata": {},
   "outputs": [],
   "source": [
    "imagesss = ['a.webp',\n",
    "  'b.jfif',\n",
    " 'c.jfif',\n",
    " 'd.jpg',]"
   ]
  },
  {
   "cell_type": "code",
   "execution_count": null,
   "metadata": {},
   "outputs": [],
   "source": [
    "for j in imagesss:\n",
    "    link = os.path.join(r'C:\\Users\\hp\\Desktop', j)\n",
    "    image = cv2.imread(link)\n",
    "    image = cv2.cvtColor(image, cv2.COLOR_BGR2RGB)\n",
    "\n",
    "    results =tfnet2.return_predict(image)\n",
    "    print(results)\n",
    "\n",
    "    for i in range(0, len(results)):\n",
    "        tl = (results[i]['topleft']['x'], results[i]['topleft']['y'])\n",
    "        br = (results[i]['bottomright']['x'], results[i]['bottomright']['y'])\n",
    "        label = results[i]['label']# add the box and label and display it\n",
    "        img = cv2.rectangle(image, tl, br, (0, 255, 0), 7)\n",
    "        img = cv2.putText(image, label, tl, cv2.FONT_HERSHEY_COMPLEX, 1, (0, 0, 0), 2)\n",
    "        plt.imshow(img)\n",
    "    plt.figure(figsize = (10,10))\n",
    "    plt.show()"
   ]
  },
  {
   "cell_type": "code",
   "execution_count": null,
   "metadata": {},
   "outputs": [],
   "source": [
    "os.path.join(r'C:\\Users\\hp\\Desktop', 'yo')"
   ]
  },
  {
   "cell_type": "code",
   "execution_count": null,
   "metadata": {},
   "outputs": [],
   "source": []
  },
  {
   "cell_type": "code",
   "execution_count": null,
   "metadata": {},
   "outputs": [],
   "source": []
  }
 ],
 "metadata": {
  "kernelspec": {
   "display_name": "Python 3",
   "language": "python",
   "name": "python3"
  },
  "language_info": {
   "codemirror_mode": {
    "name": "ipython",
    "version": 3
   },
   "file_extension": ".py",
   "mimetype": "text/x-python",
   "name": "python",
   "nbconvert_exporter": "python",
   "pygments_lexer": "ipython3",
   "version": "3.7.6"
  }
 },
 "nbformat": 4,
 "nbformat_minor": 4
}
